{
 "cells": [
  {
   "attachments": {},
   "cell_type": "markdown",
   "metadata": {},
   "source": [
    "## 첫번째 주피터 노트북"
   ]
  },
  {
   "cell_type": "code",
   "execution_count": 3,
   "metadata": {},
   "outputs": [
    {
     "name": "stdout",
     "output_type": "stream",
     "text": [
      "Hello, Jupyter~\n"
     ]
    }
   ],
   "source": [
    "# 여기는 주석이죠~\n",
    "print('Hello, Jupyter~')"
   ]
  },
  {
   "cell_type": "code",
   "execution_count": 4,
   "metadata": {},
   "outputs": [
    {
     "name": "stdout",
     "output_type": "stream",
     "text": [
      "0 출력\n",
      "1 출력\n",
      "2 출력\n",
      "3 출력\n",
      "4 출력\n"
     ]
    }
   ],
   "source": [
    "for i in range(5):\n",
    "    print(f'{i} 출력')"
   ]
  }
 ],
 "metadata": {
  "kernelspec": {
   "display_name": "venv",
   "language": "python",
   "name": "python3"
  },
  "language_info": {
   "codemirror_mode": {
    "name": "ipython",
    "version": 3
   },
   "file_extension": ".py",
   "mimetype": "text/x-python",
   "name": "python",
   "nbconvert_exporter": "python",
   "pygments_lexer": "ipython3",
   "version": "3.11.1"
  },
  "orig_nbformat": 4,
  "vscode": {
   "interpreter": {
    "hash": "76ec27e2e5ff9a661d92f7ebc18ef3c877db7c94e99eee72e294ebeae604be14"
   }
  }
 },
 "nbformat": 4,
 "nbformat_minor": 2
}
